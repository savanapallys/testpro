{
 "cells": [
  {
   "cell_type": "markdown",
   "id": "40c1d271-c03a-475d-80ed-d190ba08f467",
   "metadata": {},
   "source": [
    "topic python basic variable \n",
    "1.swap"
   ]
  },
  {
   "cell_type": "code",
   "execution_count": 14,
   "id": "2a261040-3c64-4f35-8360-4b5aa1ec78da",
   "metadata": {},
   "outputs": [
    {
     "name": "stdout",
     "output_type": "stream",
     "text": [
      "10\n",
      "5\n"
     ]
    }
   ],
   "source": [
    "x=5\n",
    "y=10\n",
    "x,y=y,x\n",
    "print(x)\n",
    "print(y)"
   ]
  },
  {
   "cell_type": "markdown",
   "id": "317ca278-9905-4ca8-bf11-5c970d44b759",
   "metadata": {},
   "source": [
    "2.area_of_rectangle\n"
   ]
  },
  {
   "cell_type": "code",
   "execution_count": 2,
   "id": "73e6f25d-43c6-4985-a1b3-c367ae4dff56",
   "metadata": {},
   "outputs": [
    {
     "name": "stdin",
     "output_type": "stream",
     "text": [
      "enter length 3\n",
      "enter width 4\n"
     ]
    },
    {
     "name": "stdout",
     "output_type": "stream",
     "text": [
      "12\n"
     ]
    }
   ],
   "source": [
    "l=int(input(\"enter length\"))\n",
    "w=int(input(\"enter width\"))\n",
    "area_of_rectangle=l*w\n",
    "print(area_of_rectangle)"
   ]
  },
  {
   "cell_type": "markdown",
   "id": "c9f2a705-3467-4918-87e5-3116d97019fe",
   "metadata": {},
   "source": [
    "3.celsius to fahrenheit conversion "
   ]
  },
  {
   "cell_type": "code",
   "execution_count": 6,
   "id": "4bfd0062-8d17-4c4d-8719-5f749c542f94",
   "metadata": {},
   "outputs": [
    {
     "name": "stdin",
     "output_type": "stream",
     "text": [
      "enter the temperature 45\n"
     ]
    },
    {
     "name": "stdout",
     "output_type": "stream",
     "text": [
      "113.0 f\n"
     ]
    }
   ],
   "source": [
    "c=int(input(\"enter the temperature\"))\n",
    "fahrenheit=(9/5*c+32)\n",
    "print(fahrenheit,\"f\")"
   ]
  },
  {
   "cell_type": "code",
   "execution_count": null,
   "id": "64708730-8d76-4a28-83d4-24943dc2c7b1",
   "metadata": {},
   "outputs": [],
   "source": []
  },
  {
   "cell_type": "code",
   "execution_count": null,
   "id": "f834fa5a-2381-420d-b384-e38df8274794",
   "metadata": {},
   "outputs": [],
   "source": []
  },
  {
   "cell_type": "markdown",
   "id": "d3135c10-4472-459f-9294-eb828c5ca4e7",
   "metadata": {},
   "source": [
    "string based questions"
   ]
  },
  {
   "cell_type": "markdown",
   "id": "6ccf55d3-19a8-4036-aee8-5cba1fa1d9e9",
   "metadata": {},
   "source": [
    "1.knowing length of string"
   ]
  },
  {
   "cell_type": "code",
   "execution_count": 12,
   "id": "a567f17e-dbf4-4735-99b0-1c4b542f1b13",
   "metadata": {},
   "outputs": [
    {
     "name": "stdin",
     "output_type": "stream",
     "text": [
      "enter a string 124cvv\n"
     ]
    },
    {
     "name": "stdout",
     "output_type": "stream",
     "text": [
      "6\n"
     ]
    }
   ],
   "source": [
    "s=input(\"enter a string\")\n",
    "l=len(s)\n",
    "print(l)"
   ]
  },
  {
   "cell_type": "markdown",
   "id": "8937f6d4-803b-4902-ab55-bd02394339fe",
   "metadata": {},
   "source": [
    "2.counting vowels"
   ]
  },
  {
   "cell_type": "code",
   "execution_count": 12,
   "id": "c8db2204-aaf4-4753-85be-5e4308053039",
   "metadata": {},
   "outputs": [
    {
     "name": "stdin",
     "output_type": "stream",
     "text": [
      "enter a string to count vowels:- harika\n"
     ]
    },
    {
     "name": "stdout",
     "output_type": "stream",
     "text": [
      "3\n"
     ]
    }
   ],
   "source": [
    "v=input(\"enter a string to count vowels:-\")\n",
    "count=0\n",
    "for j in v:\n",
    "    if j==\"a\" or j==\"e\" or j==\"i\" or j==\"o\" or j==\"u\":\n",
    "        count+=1\n",
    "print(count)     \n",
    "\n",
    "        "
   ]
  },
  {
   "cell_type": "markdown",
   "id": "6105118d-7fd7-4579-9ec6-fcb13712d323",
   "metadata": {},
   "source": [
    "3.string reverse"
   ]
  },
  {
   "cell_type": "code",
   "execution_count": 13,
   "id": "9b9ff6d1-19a2-4ccf-8a43-2e4ba4144ee6",
   "metadata": {},
   "outputs": [
    {
     "name": "stdin",
     "output_type": "stream",
     "text": [
      "enter a string needs to be reversed bhar\n"
     ]
    },
    {
     "name": "stdout",
     "output_type": "stream",
     "text": [
      "rahb\n"
     ]
    }
   ],
   "source": [
    "string=input(\"enter a string needs to be reversed\")\n",
    "reverse_string=string[::-1]\n",
    "print(reverse_string)"
   ]
  },
  {
   "cell_type": "markdown",
   "id": "c54df5b4-8554-40fe-b678-113f34939ef5",
   "metadata": {},
   "source": [
    "4.palindrome"
   ]
  },
  {
   "cell_type": "code",
   "execution_count": 7,
   "id": "e894a4ea-5f9a-4434-bcf5-67fd2364121d",
   "metadata": {},
   "outputs": [
    {
     "name": "stdin",
     "output_type": "stream",
     "text": [
      "enter string to check palindrome or not:- taat\n"
     ]
    },
    {
     "name": "stdout",
     "output_type": "stream",
     "text": [
      "entered string is palindrome\n"
     ]
    }
   ],
   "source": [
    "p=input(\"enter string to check palindrome or not:-\")\n",
    "if p==p[::-1]:\n",
    "    print(\"entered string is palindrome\")\n",
    "else:\n",
    "    print(\"entered string is not a palindrome\")"
   ]
  },
  {
   "cell_type": "markdown",
   "id": "6f60acb5-5e81-4340-9a26-d688b9fbd59c",
   "metadata": {},
   "source": [
    "5.removing spaces"
   ]
  },
  {
   "cell_type": "code",
   "execution_count": 2,
   "id": "3a42cb84-c606-4a47-b178-ace8127bc4b9",
   "metadata": {},
   "outputs": [
    {
     "name": "stdin",
     "output_type": "stream",
     "text": [
      "enter a string need to remove spaces:- bhar is a good boy\n"
     ]
    },
    {
     "name": "stdout",
     "output_type": "stream",
     "text": [
      "bharisagoodboy\n"
     ]
    }
   ],
   "source": [
    "string=input(\"enter a string need to remove spaces:-\")\n",
    "modified_string=string.replace(\" \",\"\")\n",
    "print(modified_string)"
   ]
  },
  {
   "cell_type": "code",
   "execution_count": null,
   "id": "885bf750-1f9e-483d-934d-b58f3172432b",
   "metadata": {},
   "outputs": [],
   "source": []
  }
 ],
 "metadata": {
  "kernelspec": {
   "display_name": "Python 3 (ipykernel)",
   "language": "python",
   "name": "python3"
  },
  "language_info": {
   "codemirror_mode": {
    "name": "ipython",
    "version": 3
   },
   "file_extension": ".py",
   "mimetype": "text/x-python",
   "name": "python",
   "nbconvert_exporter": "python",
   "pygments_lexer": "ipython3",
   "version": "3.10.8"
  }
 },
 "nbformat": 4,
 "nbformat_minor": 5
}
